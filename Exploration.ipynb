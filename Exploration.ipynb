{
 "cells": [
  {
   "cell_type": "code",
   "execution_count": 32,
   "metadata": {},
   "outputs": [],
   "source": [
    "import kaggle\n",
    "import os\n",
    "import numpy as np\n",
    "import zipfile\n",
    "import pandas as pd\n",
    "import seaborn as sns\n",
    "import pickle\n",
    "from datetime import datetime\n",
    "from sklearn.model_selection import RepeatedKFold, cross_validate, cross_val_score, GridSearchCV\n",
    "from sklearn.ensemble import RandomForestRegressor\n",
    "from sklearn.metrics import mean_squared_error, SCORERS\n",
    "from math import sqrt"
   ]
  },
  {
   "cell_type": "code",
   "execution_count": 93,
   "metadata": {},
   "outputs": [],
   "source": [
    "def submit_to_kaggle(predictions):\n",
    "    submission_time = \"{:%Y_%m_%d_%H_%M_%S}\".format(datetime.now())\n",
    "    predictions.to_csv(\"submissions/rfr_%f_%s.csv\" % (sqrt(-clf.best_score_),submission_time),index=False)\n",
    "    submission_file_path = os.path.abspath(\"submissions/rfr_%f_%s.csv\" % (sqrt(-clf.best_score_),submission_time))\n",
    "    submission = kaggle_api.competition_submit(competition=COMPETITION_NAME,\n",
    "                                               file_name=submission_file_path,\n",
    "                                               message=\"rfr_%f_%s\" % (sqrt(-clf.best_score_),submission_time))\n",
    "    print(submission)\n",
    "    \n",
    "def save_best_model(clf, model_name, model_version, completion_time):\n",
    "    model_file_path = 'models/%s_v%i_%f_%s.model' % (model_name, model_version, sqrt(-clf.best_score_), completion_time)\n",
    "    pickle.dump(clf.best_estimator_,open(model_file_path, 'wb'))\n",
    "    \n",
    "    pd.DataFrame(clf.cv_results_).to_csv('models/%s_v%i_%f_%s.csv' % (model_name, model_version, sqrt(-clf.best_score_), completion_time),\n",
    "                                        index=False)\n",
    "    \n",
    "def build_model(model, model_name, model_version, parameter_grid, cross_validation, train, y_train):\n",
    "    clf = GridSearchCV(estimator = model,\n",
    "                          param_grid = parameter_grid,\n",
    "                          scoring = 'neg_mean_squared_error',\n",
    "                          n_jobs=-1,\n",
    "                          iid=False,\n",
    "                          cv=cross_validation,\n",
    "                          return_train_score=True,\n",
    "                          verbose=3)\n",
    "    clf.fit(X = train,\n",
    "            y = y_train)\n",
    "    completion_time = \"{:%Y_%m_%d_%H_%M_%S}\".format(datetime.now())\n",
    "    \n",
    "    best_score = sqrt(-clf.best_score_)    \n",
    "    save_best_model(clf, model_name, model_version, completion_time)\n",
    "    \n",
    "    print(\"Model completion time: %s\" % completion_time)\n",
    "    print(\"Best cross validation score: %f\" % best_score)\n",
    "    print(\"Best parameters: %s\" % clf.best_params_)\n",
    "    \n",
    "    return {\n",
    "        \"model\": model,\n",
    "        \"model_name\": model_name,\n",
    "        \"model_version\": model_version,\n",
    "        \"best_parameters\": clf.best_params_,\n",
    "        \"best_score\": best_score,\n",
    "        \"cv_results\": pd.DataFrame(clf.cv_results_)\n",
    "    } \n"
   ]
  },
  {
   "cell_type": "code",
   "execution_count": 4,
   "metadata": {},
   "outputs": [],
   "source": [
    "# Download data\n",
    "COMPETITION_NAME = 'elo-merchant-category-recommendation'\n",
    "DOWNLOAD_FILES = False\n",
    "UNZIP_FILES = False\n",
    "\n",
    "kaggle_api = kaggle.KaggleApi()\n",
    "kaggle_api.authenticate()\n",
    "\n",
    "if DOWNLOAD_FILES:\n",
    "    kaggle_api.competition_download_files(competition=COMPETITION_NAME, path='data', quiet=False)\n",
    "\n",
    "if UNZIP_FILES:\n",
    "    for item in os.listdir('data',):\n",
    "        if item.endswith('zip'):\n",
    "            file_name = os.path.abspath('data/' + item)\n",
    "            zip_ref = zipfile.ZipFile(file_name)\n",
    "            zip_ref.extractall('data/')\n",
    "            zip_ref.close()\n",
    "            os.remove(file_name)"
   ]
  },
  {
   "cell_type": "code",
   "execution_count": 5,
   "metadata": {},
   "outputs": [],
   "source": [
    "# Read data\n",
    "merchants = pd.read_csv('data/merchants.csv')\n",
    "new_trans = pd.read_csv('data/new_merchant_transactions.csv')\n",
    "test = pd.read_csv('data/test.csv')\n",
    "train = pd.read_csv('data/train.csv')\n",
    "hist_trans = pd.read_csv('data/historical_transactions.csv')"
   ]
  },
  {
   "cell_type": "markdown",
   "metadata": {},
   "source": [
    "## Data manipulation"
   ]
  },
  {
   "cell_type": "code",
   "execution_count": 41,
   "metadata": {},
   "outputs": [],
   "source": [
    "train['first_active_year'] = train.first_active_month.str[:4]\n",
    "train['first_active_month_m'] = train.first_active_month.str[5:].astype('int')\n",
    "\n",
    "test['first_active_month'].fillna('2017-06',inplace=True)\n",
    "test['first_active_year'] = test.first_active_month.str[:4]\n",
    "test['first_active_month_m'] = test.first_active_month.str[5:].astype('int')"
   ]
  },
  {
   "cell_type": "markdown",
   "metadata": {},
   "source": [
    "## Explore train"
   ]
  },
  {
   "cell_type": "code",
   "execution_count": 42,
   "metadata": {},
   "outputs": [
    {
     "data": {
      "text/plain": [
       "Index(['first_active_month', 'card_id', 'feature_1', 'feature_2', 'feature_3',\n",
       "       'target', 'first_active_year', 'first_active_month_m'],\n",
       "      dtype='object')"
      ]
     },
     "execution_count": 42,
     "metadata": {},
     "output_type": "execute_result"
    }
   ],
   "source": [
    "train.columns"
   ]
  },
  {
   "cell_type": "code",
   "execution_count": 43,
   "metadata": {},
   "outputs": [
    {
     "data": {
      "text/html": [
       "<div>\n",
       "<style scoped>\n",
       "    .dataframe tbody tr th:only-of-type {\n",
       "        vertical-align: middle;\n",
       "    }\n",
       "\n",
       "    .dataframe tbody tr th {\n",
       "        vertical-align: top;\n",
       "    }\n",
       "\n",
       "    .dataframe thead th {\n",
       "        text-align: right;\n",
       "    }\n",
       "</style>\n",
       "<table border=\"1\" class=\"dataframe\">\n",
       "  <thead>\n",
       "    <tr style=\"text-align: right;\">\n",
       "      <th></th>\n",
       "      <th>first_active_month</th>\n",
       "      <th>card_id</th>\n",
       "      <th>feature_1</th>\n",
       "      <th>feature_2</th>\n",
       "      <th>feature_3</th>\n",
       "      <th>target</th>\n",
       "      <th>first_active_year</th>\n",
       "      <th>first_active_month_m</th>\n",
       "    </tr>\n",
       "  </thead>\n",
       "  <tbody>\n",
       "    <tr>\n",
       "      <th>0</th>\n",
       "      <td>2017-06</td>\n",
       "      <td>C_ID_92a2005557</td>\n",
       "      <td>5</td>\n",
       "      <td>2</td>\n",
       "      <td>1</td>\n",
       "      <td>-0.820283</td>\n",
       "      <td>2017</td>\n",
       "      <td>6</td>\n",
       "    </tr>\n",
       "    <tr>\n",
       "      <th>1</th>\n",
       "      <td>2017-01</td>\n",
       "      <td>C_ID_3d0044924f</td>\n",
       "      <td>4</td>\n",
       "      <td>1</td>\n",
       "      <td>0</td>\n",
       "      <td>0.392913</td>\n",
       "      <td>2017</td>\n",
       "      <td>1</td>\n",
       "    </tr>\n",
       "    <tr>\n",
       "      <th>2</th>\n",
       "      <td>2016-08</td>\n",
       "      <td>C_ID_d639edf6cd</td>\n",
       "      <td>2</td>\n",
       "      <td>2</td>\n",
       "      <td>0</td>\n",
       "      <td>0.688056</td>\n",
       "      <td>2016</td>\n",
       "      <td>8</td>\n",
       "    </tr>\n",
       "    <tr>\n",
       "      <th>3</th>\n",
       "      <td>2017-09</td>\n",
       "      <td>C_ID_186d6a6901</td>\n",
       "      <td>4</td>\n",
       "      <td>3</td>\n",
       "      <td>0</td>\n",
       "      <td>0.142495</td>\n",
       "      <td>2017</td>\n",
       "      <td>9</td>\n",
       "    </tr>\n",
       "    <tr>\n",
       "      <th>4</th>\n",
       "      <td>2017-11</td>\n",
       "      <td>C_ID_cdbd2c0db2</td>\n",
       "      <td>1</td>\n",
       "      <td>3</td>\n",
       "      <td>0</td>\n",
       "      <td>-0.159749</td>\n",
       "      <td>2017</td>\n",
       "      <td>11</td>\n",
       "    </tr>\n",
       "  </tbody>\n",
       "</table>\n",
       "</div>"
      ],
      "text/plain": [
       "  first_active_month          card_id  feature_1  feature_2  feature_3  \\\n",
       "0            2017-06  C_ID_92a2005557          5          2          1   \n",
       "1            2017-01  C_ID_3d0044924f          4          1          0   \n",
       "2            2016-08  C_ID_d639edf6cd          2          2          0   \n",
       "3            2017-09  C_ID_186d6a6901          4          3          0   \n",
       "4            2017-11  C_ID_cdbd2c0db2          1          3          0   \n",
       "\n",
       "     target first_active_year  first_active_month_m  \n",
       "0 -0.820283              2017                     6  \n",
       "1  0.392913              2017                     1  \n",
       "2  0.688056              2016                     8  \n",
       "3  0.142495              2017                     9  \n",
       "4 -0.159749              2017                    11  "
      ]
     },
     "execution_count": 43,
     "metadata": {},
     "output_type": "execute_result"
    }
   ],
   "source": [
    "train.head()"
   ]
  },
  {
   "cell_type": "code",
   "execution_count": 44,
   "metadata": {},
   "outputs": [
    {
     "data": {
      "text/plain": [
       "first_active_month              2017-06\n",
       "card_id                 C_ID_c27b4f80f7\n",
       "feature_1                             5\n",
       "feature_2                             2\n",
       "feature_3                             1\n",
       "first_active_year                  2017\n",
       "first_active_month_m                  6\n",
       "Name: 11578, dtype: object"
      ]
     },
     "execution_count": 44,
     "metadata": {},
     "output_type": "execute_result"
    }
   ],
   "source": [
    "test.iloc[11578]"
   ]
  },
  {
   "cell_type": "code",
   "execution_count": 45,
   "metadata": {},
   "outputs": [
    {
     "data": {
      "text/html": [
       "<div>\n",
       "<style scoped>\n",
       "    .dataframe tbody tr th:only-of-type {\n",
       "        vertical-align: middle;\n",
       "    }\n",
       "\n",
       "    .dataframe tbody tr th {\n",
       "        vertical-align: top;\n",
       "    }\n",
       "\n",
       "    .dataframe thead th {\n",
       "        text-align: right;\n",
       "    }\n",
       "</style>\n",
       "<table border=\"1\" class=\"dataframe\">\n",
       "  <thead>\n",
       "    <tr style=\"text-align: right;\">\n",
       "      <th></th>\n",
       "      <th>first_active_month</th>\n",
       "      <th>card_id</th>\n",
       "      <th>feature_1</th>\n",
       "      <th>feature_2</th>\n",
       "      <th>feature_3</th>\n",
       "      <th>first_active_year</th>\n",
       "      <th>first_active_month_m</th>\n",
       "    </tr>\n",
       "  </thead>\n",
       "  <tbody>\n",
       "  </tbody>\n",
       "</table>\n",
       "</div>"
      ],
      "text/plain": [
       "Empty DataFrame\n",
       "Columns: [first_active_month, card_id, feature_1, feature_2, feature_3, first_active_year, first_active_month_m]\n",
       "Index: []"
      ]
     },
     "execution_count": 45,
     "metadata": {},
     "output_type": "execute_result"
    }
   ],
   "source": [
    "test[test.isnull().any(axis=1)]"
   ]
  },
  {
   "cell_type": "markdown",
   "metadata": {},
   "source": [
    "#### target"
   ]
  },
  {
   "cell_type": "code",
   "execution_count": 46,
   "metadata": {},
   "outputs": [
    {
     "data": {
      "text/plain": [
       "count    201917.000000\n",
       "mean         -0.393636\n",
       "std           3.850500\n",
       "min         -33.219281\n",
       "25%          -0.883110\n",
       "50%          -0.023437\n",
       "75%           0.765453\n",
       "max          17.965068\n",
       "Name: target, dtype: float64"
      ]
     },
     "execution_count": 46,
     "metadata": {},
     "output_type": "execute_result"
    }
   ],
   "source": [
    "train.target.describe()"
   ]
  },
  {
   "cell_type": "code",
   "execution_count": 47,
   "metadata": {},
   "outputs": [
    {
     "data": {
      "text/plain": [
       "target\n",
       "(-40, -1]    45742\n",
       "(-1, 0]      58566\n",
       "(0, 1]       56709\n",
       "(1, 40]      40900\n",
       "dtype: int64"
      ]
     },
     "execution_count": 47,
     "metadata": {},
     "output_type": "execute_result"
    }
   ],
   "source": [
    "train.groupby(pd.cut(train.target,[-40,-1,0,1,40])).agg('size')"
   ]
  },
  {
   "cell_type": "code",
   "execution_count": 48,
   "metadata": {},
   "outputs": [
    {
     "name": "stderr",
     "output_type": "stream",
     "text": [
      "/Users/scobra/anaconda/lib/python3.7/site-packages/scipy/stats/stats.py:1713: FutureWarning: Using a non-tuple sequence for multidimensional indexing is deprecated; use `arr[tuple(seq)]` instead of `arr[seq]`. In the future this will be interpreted as an array index, `arr[np.array(seq)]`, which will result either in an error or a different result.\n",
      "  return np.add.reduce(sorted[indexer] * weights, axis=axis) / sumval\n"
     ]
    },
    {
     "data": {
      "image/png": "[encoded data removed]",
      "text/plain": [
       "<Figure size 432x288 with 1 Axes>"
      ]
     },
     "metadata": {
      "needs_background": "light"
     },
     "output_type": "display_data"
    }
   ],
   "source": [
    "ax = sns.distplot(train[['target']], hist=False,rug = False)"
   ]
  },
  {
   "cell_type": "markdown",
   "metadata": {},
   "source": [
    "Is normally distributed, half of data is between -1 and 1"
   ]
  },
  {
   "cell_type": "markdown",
   "metadata": {},
   "source": [
    "#### first_active_month"
   ]
  },
  {
   "cell_type": "code",
   "execution_count": 49,
   "metadata": {},
   "outputs": [
    {
     "name": "stdout",
     "output_type": "stream",
     "text": [
      "2011-11\n",
      "2018-02\n"
     ]
    }
   ],
   "source": [
    "print(train.first_active_month.min())\n",
    "print(train.first_active_month.max())"
   ]
  },
  {
   "cell_type": "code",
   "execution_count": 50,
   "metadata": {},
   "outputs": [
    {
     "data": {
      "text/plain": [
       "<matplotlib.axes._subplots.AxesSubplot at 0x1a1a0115c0>"
      ]
     },
     "execution_count": 50,
     "metadata": {},
     "output_type": "execute_result"
    },
    {
     "data": {
      "image/png": "[encoded data removed]",
      "text/plain": [
       "<Figure size 432x288 with 1 Axes>"
      ]
     },
     "metadata": {
      "needs_background": "light"
     },
     "output_type": "display_data"
    }
   ],
   "source": [
    "sns.countplot(x='first_active_year', data=train, color='skyblue')"
   ]
  },
  {
   "cell_type": "code",
   "execution_count": 51,
   "metadata": {},
   "outputs": [
    {
     "data": {
      "text/plain": [
       "[(-2.5, 2.5)]"
      ]
     },
     "execution_count": 51,
     "metadata": {},
     "output_type": "execute_result"
    },
    {
     "data": {
      "image/png": "[encoded data removed]",
      "text/plain": [
       "<Figure size 432x288 with 1 Axes>"
      ]
     },
     "metadata": {
      "needs_background": "light"
     },
     "output_type": "display_data"
    }
   ],
   "source": [
    "ax = sns.boxplot(x='first_active_year',y='target',data=train,orient='v')\n",
    "ax.axes.set(ylim=(-2.5,2.5))"
   ]
  },
  {
   "cell_type": "markdown",
   "metadata": {},
   "source": [
    "#### first_active_month_m"
   ]
  },
  {
   "cell_type": "code",
   "execution_count": 52,
   "metadata": {},
   "outputs": [
    {
     "data": {
      "text/plain": [
       "<matplotlib.axes._subplots.AxesSubplot at 0x1a1a30f0f0>"
      ]
     },
     "execution_count": 52,
     "metadata": {},
     "output_type": "execute_result"
    },
    {
     "data": {
      "image/png": "[encoded data removed]",
      "text/plain": [
       "<Figure size 432x288 with 1 Axes>"
      ]
     },
     "metadata": {
      "needs_background": "light"
     },
     "output_type": "display_data"
    }
   ],
   "source": [
    "sns.countplot(x='first_active_month_m', data=train, color='skyblue')"
   ]
  },
  {
   "cell_type": "code",
   "execution_count": 53,
   "metadata": {},
   "outputs": [
    {
     "data": {
      "text/plain": [
       "first_active_month_m\n",
       "1     19.471427\n",
       "2      3.731123\n",
       "3      4.763369\n",
       "4      6.154659\n",
       "5      7.960435\n",
       "6      7.462820\n",
       "7      9.419159\n",
       "8     10.438816\n",
       "9     10.586543\n",
       "10    10.746234\n",
       "11    22.075000\n",
       "12    13.905195\n",
       "dtype: float64"
      ]
     },
     "execution_count": 53,
     "metadata": {},
     "output_type": "execute_result"
    }
   ],
   "source": [
    "year_months = train.groupby(['first_active_year','first_active_month_m']).size()\n",
    "year_months.groupby('first_active_year').apply(lambda x: 100*x/x.sum()).groupby('first_active_month_m').mean()"
   ]
  },
  {
   "cell_type": "markdown",
   "metadata": {},
   "source": [
    "#### feature_1"
   ]
  },
  {
   "cell_type": "code",
   "execution_count": 54,
   "metadata": {},
   "outputs": [
    {
     "data": {
      "text/html": [
       "<div>\n",
       "<style scoped>\n",
       "    .dataframe tbody tr th:only-of-type {\n",
       "        vertical-align: middle;\n",
       "    }\n",
       "\n",
       "    .dataframe tbody tr th {\n",
       "        vertical-align: top;\n",
       "    }\n",
       "\n",
       "    .dataframe thead th {\n",
       "        text-align: right;\n",
       "    }\n",
       "</style>\n",
       "<table border=\"1\" class=\"dataframe\">\n",
       "  <thead>\n",
       "    <tr style=\"text-align: right;\">\n",
       "      <th></th>\n",
       "      <th>feature_1</th>\n",
       "      <th>count</th>\n",
       "      <th>proportion</th>\n",
       "    </tr>\n",
       "  </thead>\n",
       "  <tbody>\n",
       "    <tr>\n",
       "      <th>0</th>\n",
       "      <td>1</td>\n",
       "      <td>12037</td>\n",
       "      <td>0.059614</td>\n",
       "    </tr>\n",
       "    <tr>\n",
       "      <th>1</th>\n",
       "      <td>2</td>\n",
       "      <td>55797</td>\n",
       "      <td>0.276336</td>\n",
       "    </tr>\n",
       "    <tr>\n",
       "      <th>2</th>\n",
       "      <td>3</td>\n",
       "      <td>73573</td>\n",
       "      <td>0.364372</td>\n",
       "    </tr>\n",
       "    <tr>\n",
       "      <th>3</th>\n",
       "      <td>4</td>\n",
       "      <td>19885</td>\n",
       "      <td>0.098481</td>\n",
       "    </tr>\n",
       "    <tr>\n",
       "      <th>4</th>\n",
       "      <td>5</td>\n",
       "      <td>40625</td>\n",
       "      <td>0.201197</td>\n",
       "    </tr>\n",
       "  </tbody>\n",
       "</table>\n",
       "</div>"
      ],
      "text/plain": [
       "   feature_1  count  proportion\n",
       "0          1  12037    0.059614\n",
       "1          2  55797    0.276336\n",
       "2          3  73573    0.364372\n",
       "3          4  19885    0.098481\n",
       "4          5  40625    0.201197"
      ]
     },
     "execution_count": 54,
     "metadata": {},
     "output_type": "execute_result"
    }
   ],
   "source": [
    "temp = train.groupby('feature_1').size().reset_index(name='count')\n",
    "temp['proportion'] = temp['count']/temp['count'].sum()\n",
    "temp"
   ]
  },
  {
   "cell_type": "code",
   "execution_count": 55,
   "metadata": {},
   "outputs": [
    {
     "data": {
      "text/plain": [
       "[(-10, 10)]"
      ]
     },
     "execution_count": 55,
     "metadata": {},
     "output_type": "execute_result"
    },
    {
     "data": {
      "image/png": "[encoded data removed]",
      "text/plain": [
       "<Figure size 432x288 with 1 Axes>"
      ]
     },
     "metadata": {
      "needs_background": "light"
     },
     "output_type": "display_data"
    }
   ],
   "source": [
    "sns.distplot(train[train.feature_1==1].target, hist=False)\n",
    "sns.distplot(train[train.feature_1==2].target, hist=False)\n",
    "sns.distplot(train[train.feature_1==3].target, hist=False)\n",
    "sns.distplot(train[train.feature_1==4].target, hist=False)\n",
    "sns.distplot(train[train.feature_1==5].target, hist=False).set(xlim=[-10,10])"
   ]
  },
  {
   "cell_type": "code",
   "execution_count": 56,
   "metadata": {},
   "outputs": [
    {
     "data": {
      "text/html": [
       "<div>\n",
       "<style scoped>\n",
       "    .dataframe tbody tr th:only-of-type {\n",
       "        vertical-align: middle;\n",
       "    }\n",
       "\n",
       "    .dataframe tbody tr th {\n",
       "        vertical-align: top;\n",
       "    }\n",
       "\n",
       "    .dataframe thead th {\n",
       "        text-align: right;\n",
       "    }\n",
       "</style>\n",
       "<table border=\"1\" class=\"dataframe\">\n",
       "  <thead>\n",
       "    <tr style=\"text-align: right;\">\n",
       "      <th></th>\n",
       "      <th>count</th>\n",
       "      <th>mean</th>\n",
       "      <th>std</th>\n",
       "      <th>min</th>\n",
       "      <th>25%</th>\n",
       "      <th>50%</th>\n",
       "      <th>75%</th>\n",
       "      <th>max</th>\n",
       "    </tr>\n",
       "    <tr>\n",
       "      <th>feature_1</th>\n",
       "      <th></th>\n",
       "      <th></th>\n",
       "      <th></th>\n",
       "      <th></th>\n",
       "      <th></th>\n",
       "      <th></th>\n",
       "      <th></th>\n",
       "      <th></th>\n",
       "    </tr>\n",
       "  </thead>\n",
       "  <tbody>\n",
       "    <tr>\n",
       "      <th>1</th>\n",
       "      <td>12037.0</td>\n",
       "      <td>-0.315476</td>\n",
       "      <td>3.407106</td>\n",
       "      <td>-33.219281</td>\n",
       "      <td>-0.810411</td>\n",
       "      <td>-0.011003</td>\n",
       "      <td>0.666923</td>\n",
       "      <td>15.011358</td>\n",
       "    </tr>\n",
       "    <tr>\n",
       "      <th>2</th>\n",
       "      <td>55797.0</td>\n",
       "      <td>-0.350452</td>\n",
       "      <td>3.756032</td>\n",
       "      <td>-33.219281</td>\n",
       "      <td>-0.806444</td>\n",
       "      <td>0.000000</td>\n",
       "      <td>0.768908</td>\n",
       "      <td>13.592223</td>\n",
       "    </tr>\n",
       "    <tr>\n",
       "      <th>3</th>\n",
       "      <td>73573.0</td>\n",
       "      <td>-0.377533</td>\n",
       "      <td>3.834499</td>\n",
       "      <td>-33.219281</td>\n",
       "      <td>-0.956521</td>\n",
       "      <td>-0.036539</td>\n",
       "      <td>0.837927</td>\n",
       "      <td>15.606405</td>\n",
       "    </tr>\n",
       "    <tr>\n",
       "      <th>4</th>\n",
       "      <td>19885.0</td>\n",
       "      <td>-0.404652</td>\n",
       "      <td>3.817954</td>\n",
       "      <td>-33.219281</td>\n",
       "      <td>-0.856211</td>\n",
       "      <td>0.000000</td>\n",
       "      <td>0.728345</td>\n",
       "      <td>9.665204</td>\n",
       "    </tr>\n",
       "    <tr>\n",
       "      <th>5</th>\n",
       "      <td>40625.0</td>\n",
       "      <td>-0.499879</td>\n",
       "      <td>4.134833</td>\n",
       "      <td>-33.219281</td>\n",
       "      <td>-0.895946</td>\n",
       "      <td>-0.056208</td>\n",
       "      <td>0.692869</td>\n",
       "      <td>17.965068</td>\n",
       "    </tr>\n",
       "  </tbody>\n",
       "</table>\n",
       "</div>"
      ],
      "text/plain": [
       "             count      mean       std        min       25%       50%  \\\n",
       "feature_1                                                               \n",
       "1          12037.0 -0.315476  3.407106 -33.219281 -0.810411 -0.011003   \n",
       "2          55797.0 -0.350452  3.756032 -33.219281 -0.806444  0.000000   \n",
       "3          73573.0 -0.377533  3.834499 -33.219281 -0.956521 -0.036539   \n",
       "4          19885.0 -0.404652  3.817954 -33.219281 -0.856211  0.000000   \n",
       "5          40625.0 -0.499879  4.134833 -33.219281 -0.895946 -0.056208   \n",
       "\n",
       "                75%        max  \n",
       "feature_1                       \n",
       "1          0.666923  15.011358  \n",
       "2          0.768908  13.592223  \n",
       "3          0.837927  15.606405  \n",
       "4          0.728345   9.665204  \n",
       "5          0.692869  17.965068  "
      ]
     },
     "execution_count": 56,
     "metadata": {},
     "output_type": "execute_result"
    }
   ],
   "source": [
    "train.groupby('feature_1').target.agg('describe')"
   ]
  },
  {
   "cell_type": "markdown",
   "metadata": {},
   "source": [
    "#### feature_2"
   ]
  },
  {
   "cell_type": "code",
   "execution_count": 57,
   "metadata": {},
   "outputs": [
    {
     "data": {
      "text/html": [
       "<div>\n",
       "<style scoped>\n",
       "    .dataframe tbody tr th:only-of-type {\n",
       "        vertical-align: middle;\n",
       "    }\n",
       "\n",
       "    .dataframe tbody tr th {\n",
       "        vertical-align: top;\n",
       "    }\n",
       "\n",
       "    .dataframe thead th {\n",
       "        text-align: right;\n",
       "    }\n",
       "</style>\n",
       "<table border=\"1\" class=\"dataframe\">\n",
       "  <thead>\n",
       "    <tr style=\"text-align: right;\">\n",
       "      <th></th>\n",
       "      <th>feature_2</th>\n",
       "      <th>count</th>\n",
       "      <th>mean</th>\n",
       "      <th>std</th>\n",
       "      <th>min</th>\n",
       "      <th>25%</th>\n",
       "      <th>50%</th>\n",
       "      <th>75%</th>\n",
       "      <th>max</th>\n",
       "      <th>count_proportion</th>\n",
       "    </tr>\n",
       "  </thead>\n",
       "  <tbody>\n",
       "    <tr>\n",
       "      <th>0</th>\n",
       "      <td>1</td>\n",
       "      <td>89242.0</td>\n",
       "      <td>-0.398675</td>\n",
       "      <td>3.890548</td>\n",
       "      <td>-33.219281</td>\n",
       "      <td>-0.822850</td>\n",
       "      <td>-0.002394</td>\n",
       "      <td>0.738072</td>\n",
       "      <td>17.965068</td>\n",
       "      <td>0.441974</td>\n",
       "    </tr>\n",
       "    <tr>\n",
       "      <th>1</th>\n",
       "      <td>2</td>\n",
       "      <td>74839.0</td>\n",
       "      <td>-0.332899</td>\n",
       "      <td>3.567683</td>\n",
       "      <td>-33.219281</td>\n",
       "      <td>-0.946076</td>\n",
       "      <td>-0.045086</td>\n",
       "      <td>0.799371</td>\n",
       "      <td>15.606405</td>\n",
       "      <td>0.370642</td>\n",
       "    </tr>\n",
       "    <tr>\n",
       "      <th>2</th>\n",
       "      <td>3</td>\n",
       "      <td>37836.0</td>\n",
       "      <td>-0.501889</td>\n",
       "      <td>4.269270</td>\n",
       "      <td>-33.219281</td>\n",
       "      <td>-0.902546</td>\n",
       "      <td>-0.033784</td>\n",
       "      <td>0.766570</td>\n",
       "      <td>13.350895</td>\n",
       "      <td>0.187384</td>\n",
       "    </tr>\n",
       "  </tbody>\n",
       "</table>\n",
       "</div>"
      ],
      "text/plain": [
       "   feature_2    count      mean       std        min       25%       50%  \\\n",
       "0          1  89242.0 -0.398675  3.890548 -33.219281 -0.822850 -0.002394   \n",
       "1          2  74839.0 -0.332899  3.567683 -33.219281 -0.946076 -0.045086   \n",
       "2          3  37836.0 -0.501889  4.269270 -33.219281 -0.902546 -0.033784   \n",
       "\n",
       "        75%        max  count_proportion  \n",
       "0  0.738072  17.965068          0.441974  \n",
       "1  0.799371  15.606405          0.370642  \n",
       "2  0.766570  13.350895          0.187384  "
      ]
     },
     "execution_count": 57,
     "metadata": {},
     "output_type": "execute_result"
    }
   ],
   "source": [
    "temp = train.groupby('feature_2').target.agg('describe').reset_index()\n",
    "temp['count_proportion'] = temp['count']/sum(temp['count'])\n",
    "temp"
   ]
  },
  {
   "cell_type": "markdown",
   "metadata": {},
   "source": [
    "#### feature_3"
   ]
  },
  {
   "cell_type": "code",
   "execution_count": 58,
   "metadata": {},
   "outputs": [
    {
     "data": {
      "text/html": [
       "<div>\n",
       "<style scoped>\n",
       "    .dataframe tbody tr th:only-of-type {\n",
       "        vertical-align: middle;\n",
       "    }\n",
       "\n",
       "    .dataframe tbody tr th {\n",
       "        vertical-align: top;\n",
       "    }\n",
       "\n",
       "    .dataframe thead th {\n",
       "        text-align: right;\n",
       "    }\n",
       "</style>\n",
       "<table border=\"1\" class=\"dataframe\">\n",
       "  <thead>\n",
       "    <tr style=\"text-align: right;\">\n",
       "      <th></th>\n",
       "      <th>feature_3</th>\n",
       "      <th>count</th>\n",
       "      <th>mean</th>\n",
       "      <th>std</th>\n",
       "      <th>min</th>\n",
       "      <th>25%</th>\n",
       "      <th>50%</th>\n",
       "      <th>75%</th>\n",
       "      <th>max</th>\n",
       "    </tr>\n",
       "  </thead>\n",
       "  <tbody>\n",
       "    <tr>\n",
       "      <th>0</th>\n",
       "      <td>0</td>\n",
       "      <td>87719.0</td>\n",
       "      <td>-0.357939</td>\n",
       "      <td>3.724459</td>\n",
       "      <td>-33.219281</td>\n",
       "      <td>-0.817775</td>\n",
       "      <td>0.000000</td>\n",
       "      <td>0.745114</td>\n",
       "      <td>15.011358</td>\n",
       "    </tr>\n",
       "    <tr>\n",
       "      <th>1</th>\n",
       "      <td>1</td>\n",
       "      <td>114198.0</td>\n",
       "      <td>-0.421057</td>\n",
       "      <td>3.944379</td>\n",
       "      <td>-33.219281</td>\n",
       "      <td>-0.934403</td>\n",
       "      <td>-0.044637</td>\n",
       "      <td>0.783653</td>\n",
       "      <td>17.965068</td>\n",
       "    </tr>\n",
       "  </tbody>\n",
       "</table>\n",
       "</div>"
      ],
      "text/plain": [
       "   feature_3     count      mean       std        min       25%       50%  \\\n",
       "0          0   87719.0 -0.357939  3.724459 -33.219281 -0.817775  0.000000   \n",
       "1          1  114198.0 -0.421057  3.944379 -33.219281 -0.934403 -0.044637   \n",
       "\n",
       "        75%        max  \n",
       "0  0.745114  15.011358  \n",
       "1  0.783653  17.965068  "
      ]
     },
     "execution_count": 58,
     "metadata": {},
     "output_type": "execute_result"
    }
   ],
   "source": [
    "train.groupby('feature_3').target.agg('describe').reset_index()"
   ]
  },
  {
   "cell_type": "markdown",
   "metadata": {},
   "source": [
    "### Build models"
   ]
  },
  {
   "cell_type": "code",
   "execution_count": 69,
   "metadata": {},
   "outputs": [],
   "source": [
    "rkf = RepeatedKFold(n_splits=5, n_repeats=3, random_state=11)"
   ]
  },
  {
   "cell_type": "code",
   "execution_count": 94,
   "metadata": {},
   "outputs": [
    {
     "name": "stdout",
     "output_type": "stream",
     "text": [
      "Fitting 5 folds for each of 5 candidates, totalling 25 fits\n"
     ]
    },
    {
     "name": "stderr",
     "output_type": "stream",
     "text": [
      "[Parallel(n_jobs=-1)]: Using backend LokyBackend with 8 concurrent workers.\n",
      "[Parallel(n_jobs=-1)]: Done  19 out of  25 | elapsed:   31.2s remaining:    9.8s\n",
      "[Parallel(n_jobs=-1)]: Done  25 out of  25 | elapsed:   37.4s finished\n"
     ]
    },
    {
     "name": "stdout",
     "output_type": "stream",
     "text": [
      "Model completion time: 2019_01_22_14_36_12\n",
      "Best cross validation score: 3.841844\n",
      "Best parameters: {'max_depth': 5}\n"
     ]
    }
   ],
   "source": [
    "rfr_params = {\n",
    "    'max_depth':[2,3,4,5,6]\n",
    "}\n",
    "results = build_model(model = RandomForestRegressor(random_state=11,n_estimators=100),\n",
    "            model_name = \"random_forest\", \n",
    "            model_version = 1,\n",
    "            parameter_grid = rfr_params,\n",
    "            cross_validation = rkf, \n",
    "            train = train.drop(['target','card_id','first_active_month'],axis=1),\n",
    "            y_train = train.target)"
   ]
  },
  {
   "cell_type": "code",
   "execution_count": 95,
   "metadata": {},
   "outputs": [
    {
     "data": {
      "text/html": [
       "<div>\n",
       "<style scoped>\n",
       "    .dataframe tbody tr th:only-of-type {\n",
       "        vertical-align: middle;\n",
       "    }\n",
       "\n",
       "    .dataframe tbody tr th {\n",
       "        vertical-align: top;\n",
       "    }\n",
       "\n",
       "    .dataframe thead th {\n",
       "        text-align: right;\n",
       "    }\n",
       "</style>\n",
       "<table border=\"1\" class=\"dataframe\">\n",
       "  <thead>\n",
       "    <tr style=\"text-align: right;\">\n",
       "      <th></th>\n",
       "      <th>mean_fit_time</th>\n",
       "      <th>std_fit_time</th>\n",
       "      <th>mean_score_time</th>\n",
       "      <th>std_score_time</th>\n",
       "      <th>param_max_depth</th>\n",
       "      <th>params</th>\n",
       "      <th>split0_test_score</th>\n",
       "      <th>split1_test_score</th>\n",
       "      <th>split2_test_score</th>\n",
       "      <th>split3_test_score</th>\n",
       "      <th>...</th>\n",
       "      <th>mean_test_score</th>\n",
       "      <th>std_test_score</th>\n",
       "      <th>rank_test_score</th>\n",
       "      <th>split0_train_score</th>\n",
       "      <th>split1_train_score</th>\n",
       "      <th>split2_train_score</th>\n",
       "      <th>split3_train_score</th>\n",
       "      <th>split4_train_score</th>\n",
       "      <th>mean_train_score</th>\n",
       "      <th>std_train_score</th>\n",
       "    </tr>\n",
       "  </thead>\n",
       "  <tbody>\n",
       "    <tr>\n",
       "      <th>0</th>\n",
       "      <td>5.255696</td>\n",
       "      <td>0.065997</td>\n",
       "      <td>0.164867</td>\n",
       "      <td>0.009109</td>\n",
       "      <td>2</td>\n",
       "      <td>{'max_depth': 2}</td>\n",
       "      <td>-15.274200</td>\n",
       "      <td>-14.538711</td>\n",
       "      <td>-15.094506</td>\n",
       "      <td>-14.512329</td>\n",
       "      <td>...</td>\n",
       "      <td>-14.768794</td>\n",
       "      <td>0.346111</td>\n",
       "      <td>5</td>\n",
       "      <td>-14.640677</td>\n",
       "      <td>-14.823503</td>\n",
       "      <td>-14.685425</td>\n",
       "      <td>-14.830786</td>\n",
       "      <td>-14.853449</td>\n",
       "      <td>-14.766768</td>\n",
       "      <td>0.086425</td>\n",
       "    </tr>\n",
       "    <tr>\n",
       "      <th>1</th>\n",
       "      <td>7.288346</td>\n",
       "      <td>0.046149</td>\n",
       "      <td>0.205020</td>\n",
       "      <td>0.017967</td>\n",
       "      <td>3</td>\n",
       "      <td>{'max_depth': 3}</td>\n",
       "      <td>-15.265718</td>\n",
       "      <td>-14.533152</td>\n",
       "      <td>-15.087843</td>\n",
       "      <td>-14.506218</td>\n",
       "      <td>...</td>\n",
       "      <td>-14.761152</td>\n",
       "      <td>0.346300</td>\n",
       "      <td>3</td>\n",
       "      <td>-14.632307</td>\n",
       "      <td>-14.813679</td>\n",
       "      <td>-14.674756</td>\n",
       "      <td>-14.820312</td>\n",
       "      <td>-14.843899</td>\n",
       "      <td>-14.756991</td>\n",
       "      <td>0.086122</td>\n",
       "    </tr>\n",
       "    <tr>\n",
       "      <th>2</th>\n",
       "      <td>9.710016</td>\n",
       "      <td>0.546963</td>\n",
       "      <td>0.287831</td>\n",
       "      <td>0.058596</td>\n",
       "      <td>4</td>\n",
       "      <td>{'max_depth': 4}</td>\n",
       "      <td>-15.263671</td>\n",
       "      <td>-14.532514</td>\n",
       "      <td>-15.087630</td>\n",
       "      <td>-14.504791</td>\n",
       "      <td>...</td>\n",
       "      <td>-14.760063</td>\n",
       "      <td>0.346183</td>\n",
       "      <td>2</td>\n",
       "      <td>-14.625404</td>\n",
       "      <td>-14.805766</td>\n",
       "      <td>-14.666203</td>\n",
       "      <td>-14.813079</td>\n",
       "      <td>-14.836050</td>\n",
       "      <td>-14.749300</td>\n",
       "      <td>0.086066</td>\n",
       "    </tr>\n",
       "    <tr>\n",
       "      <th>3</th>\n",
       "      <td>12.932880</td>\n",
       "      <td>0.684623</td>\n",
       "      <td>0.264854</td>\n",
       "      <td>0.010766</td>\n",
       "      <td>5</td>\n",
       "      <td>{'max_depth': 5}</td>\n",
       "      <td>-15.260013</td>\n",
       "      <td>-14.531805</td>\n",
       "      <td>-15.087817</td>\n",
       "      <td>-14.505445</td>\n",
       "      <td>...</td>\n",
       "      <td>-14.759763</td>\n",
       "      <td>0.344745</td>\n",
       "      <td>1</td>\n",
       "      <td>-14.616528</td>\n",
       "      <td>-14.795519</td>\n",
       "      <td>-14.655802</td>\n",
       "      <td>-14.804243</td>\n",
       "      <td>-14.826073</td>\n",
       "      <td>-14.739633</td>\n",
       "      <td>0.085967</td>\n",
       "    </tr>\n",
       "    <tr>\n",
       "      <th>4</th>\n",
       "      <td>11.401343</td>\n",
       "      <td>2.378382</td>\n",
       "      <td>0.228571</td>\n",
       "      <td>0.019825</td>\n",
       "      <td>6</td>\n",
       "      <td>{'max_depth': 6}</td>\n",
       "      <td>-15.260377</td>\n",
       "      <td>-14.536240</td>\n",
       "      <td>-15.090407</td>\n",
       "      <td>-14.508931</td>\n",
       "      <td>...</td>\n",
       "      <td>-14.762483</td>\n",
       "      <td>0.343697</td>\n",
       "      <td>4</td>\n",
       "      <td>-14.606561</td>\n",
       "      <td>-14.782843</td>\n",
       "      <td>-14.643854</td>\n",
       "      <td>-14.793548</td>\n",
       "      <td>-14.814493</td>\n",
       "      <td>-14.728260</td>\n",
       "      <td>0.085572</td>\n",
       "    </tr>\n",
       "  </tbody>\n",
       "</table>\n",
       "<p>5 rows × 21 columns</p>\n",
       "</div>"
      ],
      "text/plain": [
       "   mean_fit_time  std_fit_time  mean_score_time  std_score_time  \\\n",
       "0       5.255696      0.065997         0.164867        0.009109   \n",
       "1       7.288346      0.046149         0.205020        0.017967   \n",
       "2       9.710016      0.546963         0.287831        0.058596   \n",
       "3      12.932880      0.684623         0.264854        0.010766   \n",
       "4      11.401343      2.378382         0.228571        0.019825   \n",
       "\n",
       "  param_max_depth            params  split0_test_score  split1_test_score  \\\n",
       "0               2  {'max_depth': 2}         -15.274200         -14.538711   \n",
       "1               3  {'max_depth': 3}         -15.265718         -14.533152   \n",
       "2               4  {'max_depth': 4}         -15.263671         -14.532514   \n",
       "3               5  {'max_depth': 5}         -15.260013         -14.531805   \n",
       "4               6  {'max_depth': 6}         -15.260377         -14.536240   \n",
       "\n",
       "   split2_test_score  split3_test_score       ...         mean_test_score  \\\n",
       "0         -15.094506         -14.512329       ...              -14.768794   \n",
       "1         -15.087843         -14.506218       ...              -14.761152   \n",
       "2         -15.087630         -14.504791       ...              -14.760063   \n",
       "3         -15.087817         -14.505445       ...              -14.759763   \n",
       "4         -15.090407         -14.508931       ...              -14.762483   \n",
       "\n",
       "   std_test_score  rank_test_score  split0_train_score  split1_train_score  \\\n",
       "0        0.346111                5          -14.640677          -14.823503   \n",
       "1        0.346300                3          -14.632307          -14.813679   \n",
       "2        0.346183                2          -14.625404          -14.805766   \n",
       "3        0.344745                1          -14.616528          -14.795519   \n",
       "4        0.343697                4          -14.606561          -14.782843   \n",
       "\n",
       "   split2_train_score  split3_train_score  split4_train_score  \\\n",
       "0          -14.685425          -14.830786          -14.853449   \n",
       "1          -14.674756          -14.820312          -14.843899   \n",
       "2          -14.666203          -14.813079          -14.836050   \n",
       "3          -14.655802          -14.804243          -14.826073   \n",
       "4          -14.643854          -14.793548          -14.814493   \n",
       "\n",
       "   mean_train_score  std_train_score  \n",
       "0        -14.766768         0.086425  \n",
       "1        -14.756991         0.086122  \n",
       "2        -14.749300         0.086066  \n",
       "3        -14.739633         0.085967  \n",
       "4        -14.728260         0.085572  \n",
       "\n",
       "[5 rows x 21 columns]"
      ]
     },
     "execution_count": 95,
     "metadata": {},
     "output_type": "execute_result"
    }
   ],
   "source": [
    "results['cv_results']"
   ]
  },
  {
   "cell_type": "code",
   "execution_count": 61,
   "metadata": {},
   "outputs": [
    {
     "data": {
      "text/plain": [
       "RandomForestRegressor(bootstrap=True, criterion='mse', max_depth=4,\n",
       "           max_features='auto', max_leaf_nodes=None,\n",
       "           min_impurity_decrease=0.0, min_impurity_split=None,\n",
       "           min_samples_leaf=1, min_samples_split=2,\n",
       "           min_weight_fraction_leaf=0.0, n_estimators=100, n_jobs=None,\n",
       "           oob_score=False, random_state=11, verbose=0, warm_start=False)"
      ]
     },
     "execution_count": 61,
     "metadata": {},
     "output_type": "execute_result"
    }
   ],
   "source": [
    "clf.best_estimator_"
   ]
  },
  {
   "cell_type": "markdown",
   "metadata": {},
   "source": [
    "#### Fit best estimator model to test set"
   ]
  },
  {
   "cell_type": "code",
   "execution_count": 41,
   "metadata": {},
   "outputs": [
    {
     "data": {
      "text/html": [
       "<div>\n",
       "<style scoped>\n",
       "    .dataframe tbody tr th:only-of-type {\n",
       "        vertical-align: middle;\n",
       "    }\n",
       "\n",
       "    .dataframe tbody tr th {\n",
       "        vertical-align: top;\n",
       "    }\n",
       "\n",
       "    .dataframe thead th {\n",
       "        text-align: right;\n",
       "    }\n",
       "</style>\n",
       "<table border=\"1\" class=\"dataframe\">\n",
       "  <thead>\n",
       "    <tr style=\"text-align: right;\">\n",
       "      <th></th>\n",
       "      <th>first_active_month</th>\n",
       "      <th>card_id</th>\n",
       "      <th>feature_1</th>\n",
       "      <th>feature_2</th>\n",
       "      <th>feature_3</th>\n",
       "      <th>first_active_year</th>\n",
       "      <th>0</th>\n",
       "      <th>first_active_month_m</th>\n",
       "    </tr>\n",
       "  </thead>\n",
       "  <tbody>\n",
       "    <tr>\n",
       "      <th>0</th>\n",
       "      <td>2017-04</td>\n",
       "      <td>C_ID_0ab67a22ab</td>\n",
       "      <td>3</td>\n",
       "      <td>3</td>\n",
       "      <td>1</td>\n",
       "      <td>2017</td>\n",
       "      <td>NaN</td>\n",
       "      <td>4</td>\n",
       "    </tr>\n",
       "    <tr>\n",
       "      <th>1</th>\n",
       "      <td>2017-01</td>\n",
       "      <td>C_ID_130fd0cbdd</td>\n",
       "      <td>2</td>\n",
       "      <td>3</td>\n",
       "      <td>0</td>\n",
       "      <td>2017</td>\n",
       "      <td>NaN</td>\n",
       "      <td>1</td>\n",
       "    </tr>\n",
       "    <tr>\n",
       "      <th>2</th>\n",
       "      <td>2017-08</td>\n",
       "      <td>C_ID_b709037bc5</td>\n",
       "      <td>5</td>\n",
       "      <td>1</td>\n",
       "      <td>1</td>\n",
       "      <td>2017</td>\n",
       "      <td>NaN</td>\n",
       "      <td>8</td>\n",
       "    </tr>\n",
       "    <tr>\n",
       "      <th>3</th>\n",
       "      <td>2017-12</td>\n",
       "      <td>C_ID_d27d835a9f</td>\n",
       "      <td>2</td>\n",
       "      <td>1</td>\n",
       "      <td>0</td>\n",
       "      <td>2017</td>\n",
       "      <td>NaN</td>\n",
       "      <td>12</td>\n",
       "    </tr>\n",
       "    <tr>\n",
       "      <th>4</th>\n",
       "      <td>2015-12</td>\n",
       "      <td>C_ID_2b5e3df5c2</td>\n",
       "      <td>5</td>\n",
       "      <td>1</td>\n",
       "      <td>1</td>\n",
       "      <td>2015</td>\n",
       "      <td>NaN</td>\n",
       "      <td>12</td>\n",
       "    </tr>\n",
       "  </tbody>\n",
       "</table>\n",
       "</div>"
      ],
      "text/plain": [
       "  first_active_month          card_id  feature_1  feature_2  feature_3  \\\n",
       "0            2017-04  C_ID_0ab67a22ab          3          3          1   \n",
       "1            2017-01  C_ID_130fd0cbdd          2          3          0   \n",
       "2            2017-08  C_ID_b709037bc5          5          1          1   \n",
       "3            2017-12  C_ID_d27d835a9f          2          1          0   \n",
       "4            2015-12  C_ID_2b5e3df5c2          5          1          1   \n",
       "\n",
       "  first_active_year    0  first_active_month_m  \n",
       "0              2017  NaN                     4  \n",
       "1              2017  NaN                     1  \n",
       "2              2017  NaN                     8  \n",
       "3              2017  NaN                    12  \n",
       "4              2015  NaN                    12  "
      ]
     },
     "execution_count": 41,
     "metadata": {},
     "output_type": "execute_result"
    }
   ],
   "source": [
    "test.head()"
   ]
  },
  {
   "cell_type": "code",
   "execution_count": 139,
   "metadata": {},
   "outputs": [],
   "source": [
    "predictions = pd.Series(clf.best_estimator_.predict(test.drop(['card_id','first_active_month'],axis=1)))\n",
    "test_predictions = pd.concat([test.card_id,predictions],axis=1)\n",
    "test_predictions.rename(columns={0:'target'},inplace=True)"
   ]
  },
  {
   "cell_type": "code",
   "execution_count": 146,
   "metadata": {},
   "outputs": [
    {
     "name": "stderr",
     "output_type": "stream",
     "text": [
      "100%|██████████| 4.30M/4.30M [00:03<00:00, 1.15MB/s]\n"
     ]
    },
    {
     "name": "stdout",
     "output_type": "stream",
     "text": [
      "Successfully submitted to Elo Merchant Category Recommendation\n"
     ]
    }
   ],
   "source": [
    "submit_to_kaggle(test_predictions)"
   ]
  },
  {
   "cell_type": "code",
   "execution_count": 147,
   "metadata": {},
   "outputs": [
    {
     "name": "stdout",
     "output_type": "stream",
     "text": [
      "fileName                              date                 description                       status    publicScore  privateScore  \n",
      "------------------------------------  -------------------  --------------------------------  --------  -----------  ------------  \n",
      "rfr_3.841905_2019_01_22_08_57_13.csv  2019-01-22 08:57:18  rfr_3.841905_2019_01_22_08_57_13  complete  3.921        None          \n",
      "rfr_3.841905_2019_01_22_08_53_14.csv  2019-01-22 08:53:18  rfr_3.841905_2019_01_22_08_53_14  complete  3.921        None          \n",
      "rfr_3.841905_2019_01_22_08_51_48.csv  2019-01-22 08:51:53  rfr_3.841905_2019_01_22_08_51_48  error     None         None          \n",
      "rfr_3.841905_2019_01_22_08_46_16.csv  2019-01-22 08:46:21  rfr_3.841905_2019_01_22_08_46_16  error     None         None          \n"
     ]
    }
   ],
   "source": [
    "kaggle_api.competition_submissions_cli(competition=COMPETITION_NAME)"
   ]
  },
  {
   "cell_type": "code",
   "execution_count": null,
   "metadata": {},
   "outputs": [],
   "source": []
  }
 ],
 "metadata": {
  "kernelspec": {
   "display_name": "Python 3",
   "language": "python",
   "name": "python3"
  },
  "language_info": {
   "codemirror_mode": {
    "name": "ipython",
    "version": 3
   },
   "file_extension": ".py",
   "mimetype": "text/x-python",
   "name": "python",
   "nbconvert_exporter": "python",
   "pygments_lexer": "ipython3",
   "version": "3.7.0"
  }
 },
 "nbformat": 4,
 "nbformat_minor": 2
}
